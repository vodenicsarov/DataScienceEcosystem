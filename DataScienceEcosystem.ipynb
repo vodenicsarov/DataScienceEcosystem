{
 "cells": [
  {
   "cell_type": "markdown",
   "id": "3a54e89d-6c72-4e5c-b978-d94587361c1e",
   "metadata": {},
   "source": [
    "# Data Science Tools and Ecosystem"
   ]
  },
  {
   "cell_type": "markdown",
   "id": "4145ee25-8519-45f7-a575-9ab8e1b0e996",
   "metadata": {},
   "source": [
    "In this notebook, Data Science Tools and Ecosystem are summarized."
   ]
  },
  {
   "cell_type": "markdown",
   "id": "0fa75675-0ae9-4a75-b742-ec33c83d8acb",
   "metadata": {},
   "source": [
    "Some of the popular languages that Data Scientists use are:\n",
    "1) Python\n",
    "2) R\n",
    "3) Scala\n",
    "\n"
   ]
  },
  {
   "cell_type": "markdown",
   "id": "a2d16ead-c0d5-4bfb-b480-0b510ee17a3f",
   "metadata": {},
   "source": [
    "Some of the commonly used libraries used by Data Scientists include:\n",
    "1) ggvis\n",
    "2) NumPy\n",
    "3) Matplotlib"
   ]
  },
  {
   "cell_type": "markdown",
   "id": "1a0cb109-11cc-4b83-b315-d4c9c57fcb56",
   "metadata": {},
   "source": [
    "Data Science Tools|\n",
    "------------------|\n",
    "Jupyter Notebook|\n",
    "RStudio|\n",
    "Hadoop|"
   ]
  },
  {
   "cell_type": "markdown",
   "id": "2d188bce-b4c2-44f8-a711-3fe7195490a2",
   "metadata": {},
   "source": [
    "### Below are a few examples of evaluating arithmetic expressions in Python\n"
   ]
  },
  {
   "cell_type": "markdown",
   "id": "500337ca-ed22-423c-bcce-225b8b4ac865",
   "metadata": {},
   "source": [
    "This a simple arithmetic expression to mutiply then add integers"
   ]
  },
  {
   "cell_type": "code",
   "execution_count": 4,
   "id": "71ecbea5-e718-4aaf-b7c3-9b81fe437bf4",
   "metadata": {},
   "outputs": [
    {
     "data": {
      "text/plain": [
       "17"
      ]
     },
     "execution_count": 4,
     "metadata": {},
     "output_type": "execute_result"
    }
   ],
   "source": [
    "(3*4)+5\n"
   ]
  },
  {
   "cell_type": "markdown",
   "id": "ac721be7-e517-46ac-8762-02835729d2e5",
   "metadata": {},
   "source": [
    "This will convert 200 minutes to hours by diving by 60"
   ]
  },
  {
   "cell_type": "code",
   "execution_count": 10,
   "id": "c5d0e4f8-ed03-4f18-ad95-e1ae5c6b6b4c",
   "metadata": {},
   "outputs": [
    {
     "data": {
      "text/plain": [
       "3.3333333333333335"
      ]
     },
     "execution_count": 10,
     "metadata": {},
     "output_type": "execute_result"
    }
   ],
   "source": [
    "200/60"
   ]
  },
  {
   "cell_type": "markdown",
   "id": "b59f4597-d4da-4dd1-97af-c33741616532",
   "metadata": {},
   "source": [
    "**Objectives:**\n",
    "* List popular languages for Data Science\n",
    "* List popular libraries for Data Science\n",
    "* List popular tools for Data Science"
   ]
  },
  {
   "cell_type": "markdown",
   "id": "50351b21-1ee6-462e-b33a-c81a1530041e",
   "metadata": {},
   "source": [
    "## Author:\n",
    "Milan Vodenicsarov"
   ]
  }
 ],
 "metadata": {
  "kernelspec": {
   "display_name": "Python 3 (ipykernel)",
   "language": "python",
   "name": "python3"
  },
  "language_info": {
   "codemirror_mode": {
    "name": "ipython",
    "version": 3
   },
   "file_extension": ".py",
   "mimetype": "text/x-python",
   "name": "python",
   "nbconvert_exporter": "python",
   "pygments_lexer": "ipython3",
   "version": "3.11.7"
  }
 },
 "nbformat": 4,
 "nbformat_minor": 5
}
